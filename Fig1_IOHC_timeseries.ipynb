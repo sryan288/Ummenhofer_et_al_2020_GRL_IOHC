{
 "cells": [
  {
   "cell_type": "markdown",
   "metadata": {},
   "source": [
    "# Figure 1: Integrated ocean heat content over upper 700m in Indian Ocean\n",
    "\n",
    "This notebook contains the full code used on the original data (too large to make available) for completeness.  \n",
    "To repoduce figure jump to **plotting section** where provided files can be loaded.  \n",
    "\n",
    "For Figure S1 mask and baselines have been adjusted in this script!"
   ]
  },
  {
   "cell_type": "code",
   "execution_count": 2,
   "metadata": {
    "ExecuteTime": {
     "end_time": "2020-07-30T21:49:27.353648Z",
     "start_time": "2020-07-30T21:49:25.587405Z"
    }
   },
   "outputs": [],
   "source": [
    "import xarray as xr\n",
    "import matplotlib.pyplot as plt\n",
    "from matplotlib.patches import Rectangle\n",
    "import matplotlib.patches as mpatches\n",
    "import cmocean as cmo\n",
    "import numpy as np\n",
    "import cartopy.crs as ccrs\n",
    "import cartopy\n",
    "import pandas as pd\n",
    "from cartopy.mpl.gridliner import LONGITUDE_FORMATTER, LATITUDE_FORMATTER\n",
    "import matplotlib.ticker as mticker\n",
    "import warnings\n",
    "warnings.filterwarnings(\"ignore\")\n",
    "import pandas as pd\n",
    "from scipy.interpolate import griddata\n",
    "# from scipy.io import loadmat\n",
    "import datetime\n",
    "import string\n",
    "\n",
    "import sys\n",
    "sys.path.append(\"./\")  # adds upper level to working directory\\n\n",
    "from utils_iohc_ummenhofer2020 import deseason,ohc_anomaly,cut_indo,plot_map,finished_plot\n",
    "\n",
    "\n",
    "# where to save plots\n",
    "plotsave = 'plots/'\n",
    "datapath = '/vortexfs1/share/clidex/data/'"
   ]
  },
  {
   "cell_type": "code",
   "execution_count": 2,
   "metadata": {},
   "outputs": [],
   "source": [
    "# baseline period for anomalies\n",
    "base = ['1960-01-01','2012-12-31']\n",
    "\n",
    "# values for heat content calculation\n",
    "cp = 3994 # heat capacity\n",
    "rho = 1029 # reference density\n",
    "# cp and rho from https://xgcm.readthedocs.io/en/latest/example_eccov4.html\n",
    "\n",
    "# masks\n",
    "masktype = 'orca' # 'levitus'\n",
    "if masktype=='orca': mask = xr.open_dataset(datapath+'ORCA/mesh_files/new_maskglo.nc')\n",
    "elif masktype=='levitus': mask = xr.open_dataset('./data/mask_ind_levitus_orca.nc')"
   ]
  },
  {
   "cell_type": "markdown",
   "metadata": {},
   "source": [
    "Levitus OHC comes only for larger basin mask extending across Southern Ocean (Levitus mask goes from 20E to 146.5E), where as ORCA only goes to ~33S\n"
   ]
  },
  {
   "cell_type": "markdown",
   "metadata": {},
   "source": [
    "# Model data"
   ]
  },
  {
   "cell_type": "code",
   "execution_count": 3,
   "metadata": {
    "ExecuteTime": {
     "end_time": "2020-08-03T12:55:13.500268Z",
     "start_time": "2020-08-03T12:55:12.360315Z"
    }
   },
   "outputs": [],
   "source": [
    "################### load data ######################\n",
    "zrange = slice(0,22)\n",
    "datapath2 = datapath+'publications/IOHC_Ummenhofer/'\n",
    "k003 = xr.open_dataset(datapath2 + '/K003.hindcast_temp_IndoPacific_30E_150W_70S_30N.nc',\n",
    "                      chunks={'x': 200, 'y': 200, 'time_counter': 200}).isel(deptht=zrange)\n",
    "k004 = xr.open_dataset(datapath2 + 'K004.thermhal90_temp_IndoPacific_30E_150W_70S_30N.nc',\n",
    "                     chunks={'x': 200, 'y': 200, 'time_counter': 200}).isel(deptht=zrange)\n",
    "k005 = xr.open_dataset(datapath2 + 'K005.wind90_temp_IndoPacific_30E_150W_70S_30N.nc',\n",
    "                      chunks={'x': 200, 'y': 200, 'time_counter': 200}).isel(deptht=zrange)\n",
    "\n",
    "\n",
    "###############################################################################\n",
    "############################# load mask ########################################\n",
    "###############################################################################\n",
    "# load mask\n",
    "%timeit\n",
    "# rename dimesion to match\n",
    "mask_orca = mask.rename({'X':'x', 'Y':'y'}).drop(['x','y'])\n",
    "# cut out indo region\n",
    "mask_orca = cut_indo(mask_orca['tmaskind']).to_dataset()\n",
    "\n",
    "###############################################################################\n",
    "############################ load mesh variables ###############################\n",
    "###############################################################################\n",
    "\n",
    "# horizontal \n",
    "meshpath = datapath+'ORCA/mesh_files/'\n",
    "mesh = xr.open_dataset(meshpath + 'mesh_hgr.nc').sel(z=zrange)\n",
    "# spatical weights (e1t=zonal, e2t=meridional)\n",
    "e2t = mesh['e2t']\n",
    "e2t = e2t.rename({'t':'time_counter'}).squeeze()\n",
    "e1t = mesh['e1t']\n",
    "e1t = e1t.rename({'t':'time_counter'}).squeeze()\n",
    "\n",
    "# vertical\n",
    "mesh = xr.open_dataset(meshpath + 'mesh_zgr.nc').sel(z=zrange)\n",
    "# vertical weight\n",
    "e3t = mesh['e3t_0']\n",
    "e3t = e3t.rename({'t':'time_counter', 'z':'deptht'})\n",
    "e3t = e3t.squeeze()\n",
    "\n",
    "# also need to cut weights for multiplication\n",
    "w3 = cut_indo(e3t).to_dataset()\n",
    "w3[\"deptht\"] = k003['deptht']\n",
    "w2 = cut_indo(e2t)\n",
    "w1 = cut_indo(e1t)\n",
    "# temperature mask (not sure what this does exactly)\n",
    "tmask = xr.open_dataset(meshpath + 'mask.nc')['tmask'].isel(z=zrange)\n",
    "tmask = cut_indo(tmask)\n",
    "tmask = np.squeeze(tmask.rename({'z':'deptht'}))\n"
   ]
  },
  {
   "cell_type": "markdown",
   "metadata": {},
   "source": [
    "## Derive heat content anomaly"
   ]
  },
  {
   "cell_type": "code",
   "execution_count": null,
   "metadata": {},
   "outputs": [],
   "source": [
    "# prepare weights for 3D averaging\n",
    "weights = w2.values * w1.values * w3['e3t_0'].values * tmask\n",
    "\n",
    "# derive ocean heat content anomaly for given baseline\n",
    "ohc_k003_700 = ohc_anomaly(k003['votemper'],mask_orca,weights=weights,dims=['deptht','y','x'],\n",
    "                           base=base).load()\n",
    "\n",
    "# save to netcdf\n",
    "ohc_k003_700.to_dataset(name='OHC700').to_netcdf('../data/k003_ohca700_IndianOcean_timeseries_base_1960_2012.nc')"
   ]
  },
  {
   "cell_type": "markdown",
   "metadata": {},
   "source": [
    "# Additional data products (observations/reanalyses)\n",
    "\n",
    "We are using the following datasets:  \n",
    "- ORCA hindcast     **1958-2016\n",
    "- Levitus (WOA)  \n",
    "- ORAS5 (reanalysis) \n",
    "- Ishii (WOA + ...) **1945-2012\n",
    "- ISAS15 (Argo)     **2002-2015\n",
    "- IAP (Cheng et al, obs plus model used for interpolation)"
   ]
  },
  {
   "cell_type": "markdown",
   "metadata": {},
   "source": [
    "## ORAS5"
   ]
  },
  {
   "cell_type": "markdown",
   "metadata": {},
   "source": [
    "ORAS5 comes with ocean heat content variable! Reanalysis is also produced in ORCA025 grid."
   ]
  },
  {
   "cell_type": "code",
   "execution_count": 11,
   "metadata": {
    "ExecuteTime": {
     "end_time": "2020-07-31T21:31:46.519435Z",
     "start_time": "2020-07-31T21:31:42.139288Z"
    }
   },
   "outputs": [],
   "source": [
    "# load ORAS5 data\n",
    "oras = xr.open_dataset(datapath+'reanalysis/oras5/ORCA025/sohtc700/opa0/sohtc700_ORAS5_1m_1979_2018_grid_T_02.nc')\n",
    "\n",
    "# use ORCA weights and mask for averaging\n",
    "weights = e2t.values*e1t.values\n",
    "oras_ind = ohc_anomaly(deseason(oras,refperiod=base),mask,weights=weights,dims=['x','y'],\n",
    "                       cp=1,rho=1).drop('month') # cp and rho =1 since OHC already derived\n",
    "\n",
    "# save to netcdf\n",
    "oras_ind.drop('month').to_netcdf('./data/oras5_ohca700_IndianOcean_timeseries_base_1960_2012.nc')\n",
    "\n",
    "del oras # don't need orignal variable anymore"
   ]
  },
  {
   "cell_type": "markdown",
   "metadata": {},
   "source": [
    "## Ishii\n",
    "\n",
    "\n",
    "https://rda.ucar.edu/datasets/ds285.3/#description  \n",
    "\n",
    "This global data product produced by the Ishii Ocean Analyses Projectis based on salinity and temperature data from the World Ocean Database and the Atlas as well as data from the Global Temperature-Salinity in the tropical Pacific data base by IRD (Institut de recherche pour le développement, France), sea surface temperature data from Centennial in situ Observation Based Estimates (COBE) and data from ARGO profiling buoys. The aggregated data base is objectively analysed and forms a time series of monthly temperature and salinity fields on 24 depth levels of the global ocean. The XBT depth bias correction is applied in the current version. This data product is updated irregularly. The version of the data published here is v6.13. "
   ]
  },
  {
   "cell_type": "code",
   "execution_count": 3,
   "metadata": {
    "ExecuteTime": {
     "end_time": "2020-07-31T21:31:01.606410Z",
     "start_time": "2020-07-31T21:29:09.305004Z"
    }
   },
   "outputs": [],
   "source": [
    "###############################################################\n",
    "# 1) #################### read data ###########################\n",
    "###############################################################\n",
    "\n",
    "ishii = xr.open_dataset(datapath+'obs/Ishii/ishii_0_160E_50S_30N.nc')\n",
    "#associated cell area\n",
    "area = xr.open_dataset(datapath+'obs/Ishii/ishii_cellarea.nc')\n",
    "\n",
    "###############################################################\n",
    "# 2) #################### Indian Ocean mask ###########################\n",
    "###############################################################\n",
    "# need mask for Indian ocean, interpolate ORCA mask onto grid\n",
    "xm,ym = np.meshgrid(np.arange(-179.5,180.5,1),np.arange(-89.5,90.5,1))\n",
    "mask_ind = griddata((mask['NAV_LON'].values.ravel(),mask['NAV_LAT'].values.ravel()),\n",
    "                      mask['tmaskind'].values.ravel(),(xm,ym),'linear')\n",
    "# set nan to 0\n",
    "mask_ind[np.isnan(mask_ind)]=0\n",
    "mask_ind.shape\n",
    "# rearrange data to match longitudes of oras5\n",
    "mask1 = np.squeeze(mask_ind[:,np.where(xm[0,:]>=0)])\n",
    "mask2 = np.squeeze(mask_ind[:,np.where(xm[0,:]<0)])\n",
    "mask_ind2 = np.concatenate((mask1,mask2),axis=1)\n",
    "# create xarray for mask\n",
    "mask_ishii = xr.DataArray(mask_ind2, dims=['lat', 'lon'],coords={'lon': np.arange(0.5,360.5,1),'lat': ym[:,0]})\n",
    "mask_ishii = mask_ishii.sel(lon=slice(0.5,159.5),lat=slice(-49.5,29.5))\n",
    "\n",
    "# cut out Indian Ocean and multiply by area\n",
    "ishii_ind = ishii*mask_ishii.values*area['cell_area'].values\n",
    "ishii_ind = ishii_ind.where(ishii_ind['var80']>0,drop=True)\n",
    "\n",
    "del area,mask_ind2,mask_ind,ishii\n",
    "\n",
    "\n",
    "###############################################################\n",
    "## 3) ####### Prepare vertical integration  ##################\n",
    "###############################################################\n",
    "# derive mid-layer value and layer thickness for integration\n",
    "dz = np.diff(ishii_ind['depth'])\n",
    "tempdz = (ishii_ind['var80'][:,:-1,:,:].values + ishii_ind['var80'][:,1:,:,:].values)/2\n",
    "depthdz = (ishii_ind.depth[:-1].values + ishii_ind.depth[1:].values)/2\n",
    "\n",
    "# create array for multiplication\n",
    "dummy = np.tile(dz,(tempdz.shape[0],tempdz.shape[2],tempdz.shape[3],1))\n",
    "dzm = np.moveaxis(dummy,-1,1)\n",
    "\n",
    "# multiply with layer thickness and create xarray\n",
    "tempz2 = tempdz*dzm\n",
    "temp = xr.DataArray(tempz2,\n",
    "                    dims=['time','depth','lat', 'lon'],\n",
    "                    coords={'lon': ishii_ind.lon.values,\n",
    "                           'lat': ishii_ind.lat.values,\n",
    "                           'time': ishii_ind.time.values,\n",
    "                           'depth': depthdz}).to_dataset(name='temp')\n",
    "\n",
    "###############################################################\n",
    "##### 4) ###### Derive ocean heat content anomaly #############\n",
    "###############################################################\n",
    "# cut upper 700m & derive OHC\n",
    "dummy = temp.sel(depth=slice(0,701))\n",
    "ohc_ishii = dummy.sum(dim=['depth','lon','lat'])*cp*rho\n",
    "ohca_ishii = ohc_ishii.groupby('time.month')-ohc_ishii.sel(\n",
    "            time=slice(*base)).groupby(\n",
    "            'time.month').mean('time')\n",
    "ohca_ishii = ohca_ishii.drop('month')\n",
    "\n",
    "# save to netcdf\n",
    "ohca_ishii.to_netcdf('./data/ishii_ohca700_IndianOcean_timeseries_base_1960_2012.nc')\n",
    "\n",
    "del ishii_ind,ohc_ishii,dummy,temp"
   ]
  },
  {
   "cell_type": "markdown",
   "metadata": {},
   "source": [
    "## Levitus\n",
    "\n",
    "Levitus data is downloaded from NOAA, https://www.nodc.noaa.gov/OC5/3M_HEAT_CONTENT/heat_global.html\n",
    "The time resolution is seasonal from 1955-present (2019).  \n",
    "\n",
    "Data based on WOA09 and updated continuously. Associated paper: https://data.nodc.noaa.gov/woa/PUBLICATIONS/grlheat12.pdf\n",
    "\n",
    "Reference period in https://data.nodc.noaa.gov/woa/PUBLICATIONS/grlheat12.pdf is 1955-2006"
   ]
  },
  {
   "cell_type": "code",
   "execution_count": 17,
   "metadata": {
    "ExecuteTime": {
     "end_time": "2020-07-31T20:30:03.850046Z",
     "start_time": "2020-07-31T20:30:03.815950Z"
    }
   },
   "outputs": [
    {
     "data": {
      "text/plain": [
       "<matplotlib.collections.QuadMesh at 0x2aaae3c1b990>"
      ]
     },
     "execution_count": 17,
     "metadata": {},
     "output_type": "execute_result"
    },
    {
     "data": {
      "image/png": "[encoded data removed]",
      "text/plain": [
       "<Figure size 432x288 with 2 Axes>"
      ]
     },
     "metadata": {
      "needs_background": "light"
     },
     "output_type": "display_data"
    }
   ],
   "source": [
    "levitus = xr.open_dataset(datapath+'obs/Levitus/heat_content_anomaly_0-700_seasonal.nc',\n",
    "                         decode_times=False)\n",
    "# cannot decode 'months since...' format, so I have to create my own time vector for plotting\n",
    "time_lev = pd.date_range('1955-02-01','2019-07-01' , freq='3M')\n",
    "\n",
    "# plot basin masks\n",
    "%matplotlib inline\n",
    "levitus['basin_mask'].plot()"
   ]
  },
  {
   "cell_type": "markdown",
   "metadata": {},
   "source": [
    "## ISAS15 - Argo data"
   ]
  },
  {
   "cell_type": "code",
   "execution_count": 14,
   "metadata": {
    "ExecuteTime": {
     "end_time": "2020-07-31T20:37:09.501226Z",
     "start_time": "2020-07-31T20:32:43.838174Z"
    }
   },
   "outputs": [],
   "source": [
    "###############################################################\n",
    "##################### Load data ###########################\n",
    "###############################################################\n",
    "argo = xr.open_dataset(datapath+'obs/ARGO/ISAS15/isas15_temp_30E_160W_40S_35N.nc')\n",
    "#associated cell area\n",
    "argo_area = xr.open_dataset(datapath+'obs/ARGO/ISAS15/isas15_gridarea_30E_160W_40S_35N.nc')\n",
    "\n",
    "###############################################################\n",
    "##################### Indian Ocean mask ###########################\n",
    "###############################################################\n",
    "# need mask for Indian ocean\n",
    "xm,ym = np.meshgrid(argo.longitude,argo.latitude)\n",
    "mask_ind = griddata((mask['NAV_LON'].values.ravel(),mask['NAV_LAT'].values.ravel()),\n",
    "                      mask['tmaskind'].values.ravel(),(xm,ym),'linear')\n",
    "# set nan to 0\n",
    "mask_ind[np.isnan(mask_ind)]=0\n",
    "mask_ind.shape\n",
    "\n",
    "# cut out Indian Ocean and multiply by area\n",
    "argo_ind = argo*mask_ind*argo_area['cell_area'].values\n",
    "argo_ind = argo_ind.where(argo_ind['TEMP']>2*1e10,drop=True)\n",
    "\n",
    "###############################################################\n",
    "###############################################################\n",
    "###############################################################\n",
    "# derive mid-layer value and layer thickness for integration\n",
    "dz = np.diff(argo_ind['depth'])\n",
    "tempdz = (argo_ind['TEMP'][:,:-1,:,:].values + argo_ind['TEMP'][:,1:,:,:].values)/2\n",
    "depthdz = (argo_ind.depth[:-1].values + argo_ind.depth[1:].values)/2\n",
    "\n",
    "# create array for multiplication\n",
    "dummy = np.tile(dz,(tempdz.shape[0],tempdz.shape[2],tempdz.shape[3],1))\n",
    "dzm = np.moveaxis(dummy,-1,1)\n",
    "\n",
    "# multiply with layer thickness and create xarray\n",
    "tempz2 = tempdz*dzm\n",
    "temp = xr.DataArray(tempz2,\n",
    "                    dims=['time','depth','latitude', 'longitude'],\n",
    "                    coords={'longitude': argo_ind.longitude.values,\n",
    "                           'latitude': argo_ind.latitude.values,\n",
    "                           'time': argo_ind.time.values,\n",
    "                           'depth': depthdz})\n",
    "temp = temp.to_dataset(name='temp') # change array to dataset\n",
    "\n",
    "###############################################################\n",
    "###############################################################\n",
    "###############################################################\n",
    "# cut upper 700m & derive OHC\n",
    "dummy = temp.sel(depth=slice(0,701))\n",
    "ohc_argo = dummy.sum(dim=['depth','longitude','latitude'])*cp*rho\n",
    "ohca_argo = deseason(ohc_argo,timevar='time',refperiod=base)\n",
    "ohca_argo = ohca_argo.drop('month')\n",
    "\n",
    "# save to netcdf\n",
    "ohca_argo.to_netcdf('./data/argo_ohca700_IndianOcean_timeseries_base_1960_2012.nc')\n",
    "\n",
    "del argo, argo_ind"
   ]
  },
  {
   "cell_type": "markdown",
   "metadata": {},
   "source": [
    "## IAP - Cheng"
   ]
  },
  {
   "cell_type": "code",
   "execution_count": 31,
   "metadata": {
    "ExecuteTime": {
     "end_time": "2020-07-31T19:52:17.841699Z",
     "start_time": "2020-07-31T19:51:48.696885Z"
    }
   },
   "outputs": [],
   "source": [
    "iap = xr.open_dataset(datapath+'obs/OHC_temp_Chen/ohc/OHC700_IAP_20E_160W_72S_35N.nc')\n",
    "#associated cell area\n",
    "area = xr.open_dataset(datapath+'obs/OHC_temp_Chen/ohc/OHC700_IAP_gridarea_20E_160W_72S_35N.nc')\n",
    "\n",
    "# need mask for Indian ocean, interpolate orca mask onto iap grid\n",
    "xm,ym = np.meshgrid(iap.lon.values,iap.lat.values)\n",
    "mask_ind = griddata((mask['NAV_LON'].values.ravel(),mask['NAV_LAT'].values.ravel()),\n",
    "                      mask['tmaskind'].values.ravel(),(xm,ym),'linear')\n",
    "# set nan to 0\n",
    "mask_ind[np.isnan(mask_ind)]=0\n",
    "mask_ind.shape\n",
    "\n",
    "# time did not read properly --> create new time vector\n",
    "time = pd.date_range('1940-01-01','2019-12-01' , freq='MS')\n",
    "iap['time'] = time\n",
    "\n",
    "iap_ind = iap['OHC700']*mask_ind*area['cell_area']\n",
    "iap_ind = deseason(iap_ind,timevar='time',refperiod=base)\n",
    "iap_ind = iap_ind.where(iap_ind!=0).sum(('lon','lat'))\n",
    "\n",
    "# save to netcdf\n",
    "iap_ind.drop('month').to_dataset(name='OHC700').to_netcdf('./data/iap_ohca700_IndianOcean_timeseries_base_1960_2012.nc')"
   ]
  },
  {
   "cell_type": "markdown",
   "metadata": {},
   "source": [
    "# Plotting\n",
    "\n",
    "Levitus: seasonal, i.e. Mar-1-1955,Jun-1-1955...  \n",
    "Ishii: monthly, 1945-2012  \n",
    "ORAS5: monthly, 1979-2018  \n",
    "ISAS15: monthly, 2002-2015  \n",
    "IAP: monthly, ...\n",
    "  \n",
    "I think reference period for Levitus is 1955-2006 (stated in paper). Or it is always full period..."
   ]
  },
  {
   "cell_type": "code",
   "execution_count": 3,
   "metadata": {},
   "outputs": [],
   "source": [
    "# Model\n",
    "ohc_k003_700 = xr.open_dataset('../data/k003_ohca700_IndianOcean_timeseries_base_1960_2012.nc')['OHC700']\n",
    "# ORAS5\n",
    "oras_ind = xr.open_dataset('../data/oras5_ohca700_IndianOcean_timeseries_base_1960_2012.nc')\n",
    "# Ishii\n",
    "ohca_ishii = xr.open_dataset('../data/ishii_ohca700_IndianOcean_timeseries_base_1960_2012.nc')\n",
    "\n",
    "# ISAS15\n",
    "ohca_argo = xr.open_dataset('../data/argo_ohca700_IndianOcean_timeseries_base_1960_2012.nc')['temp']\n",
    "# IAP\n",
    "iap_ind = xr.open_dataset('../data/iap_ohca700_IndianOcean_timeseries_base_1960_2012.nc')['OHC700']\n",
    "\n",
    "##################\n",
    "# Levitus for supplementary figure\n",
    "levitus = xr.open_dataset(datapath+'obs/Levitus/heat_content_anomaly_0-700_seasonal.nc',\n",
    "                         decode_times=False)\n",
    "time_lev = pd.date_range('1955-02-01','2019-07-01' , freq='3M')"
   ]
  },
  {
   "cell_type": "code",
   "execution_count": 4,
   "metadata": {
    "ExecuteTime": {
     "end_time": "2020-08-01T00:18:14.069915Z",
     "start_time": "2020-08-01T00:17:59.009345Z"
    },
    "scrolled": true
   },
   "outputs": [
    {
     "data": {
      "image/png": "[encoded data removed]",
      "text/plain": [
       "<Figure size 576x288 with 2 Axes>"
      ]
     },
     "metadata": {
      "needs_background": "light"
     },
     "output_type": "display_data"
    }
   ],
   "source": [
    "# Figure settings\n",
    "cols = plt.get_cmap(\"tab10\")\n",
    "plt.rcParams.update({'font.size': 17})\n",
    "fig1,ax1 = plt.subplots(figsize=(8,4))\n",
    "\n",
    "# plotting data\n",
    "(oras_ind['sohtc700']/1e22).rolling(time_counter=12,center=True).mean().plot(ax=ax1,label='ORAS5',linewidth=2,alpha=0.7,color=cols(0))\n",
    "(ohca_ishii['temp']/1e22).rolling(time=12,center=True).mean().plot(ax=ax1,label='Ishii',linewidth=2,alpha=0.7,color=cols(1))#\n",
    "# add K003\n",
    "(ohc_k003_700/1e22).rolling(time_counter=12,center=True).mean().plot(ax=ax1,label='hindcast',color='k',linewidth=1.5,alpha=0.7)\n",
    "# ISAS15\n",
    "(ohca_argo/1e22).rolling(time=12,center=True).mean().plot(ax=ax1,label='ISAS15',color=cols(3),linewidth=1.5,alpha=0.7)\n",
    "# IAP\n",
    "(iap_ind/1e22).rolling(time=12,center=True).mean().plot(ax=ax1,label='IAP',\n",
    "                                                        linewidth=2,alpha=0.7,\n",
    "                                                       color=cols(4))\n",
    "##################\n",
    "# # for supplementarty figure add Leviuts\n",
    "# plt.plot(time_lev,(levitus['seas_h22_IO']).rolling(time=4,center=True).mean(),label='Levitus',linewidth=2,alpha=0.7,color=cols(2))\n",
    "\n",
    "\n",
    "# make plot pretty\n",
    "ax1.axhline(0,color='k')\n",
    "ax1.legend(loc='upper left',fontsize=11)\n",
    "plt.xlabel('')\n",
    "plt.ylabel('OHC anomaly [$10^{22}$J]')\n",
    "plt.xlim('1960-01','2021-01')\n",
    "plt.ylim(-1.8,2.7)\n",
    "\n",
    "for label in ax1.get_xticklabels():\n",
    "    label.set_ha(\"center\")\n",
    "    label.set_rotation(0)\n",
    "\n",
    "# add map to show masks\n",
    "mapax = fig1.add_axes([0.4,0.57,0.3,0.3],projection=ccrs.PlateCarree())\n",
    "mapax.set_extent([0,179,-75,35])\n",
    "mapax.coastlines(color='darkgray')\n",
    "from matplotlib import colors as c\n",
    "cMap = c.ListedColormap([cols(2)])\n",
    "# levitus['basin_mask'].where(levitus['basin_mask']==3).plot.pcolormesh(ax=mapax,transform=ccrs.PlateCarree(),\n",
    "#                                                                       add_colorbar=False,cmap=cMap)\n",
    "mask = xr.open_dataset(datapath+'/ORCA/mesh_files/new_maskglo.nc')\n",
    "cMap = c.ListedColormap([cols(0)])\n",
    "lon = mask['NAV_LON'].values\n",
    "lon[lon<0] = lon[lon<0]+360\n",
    "mapax.pcolor(lon,mask['NAV_LAT'].values,mask['tmaskind'].where(mask['tmaskind']==1).values,\n",
    "             transform=ccrs.PlateCarree(),cmap=cMap,alpha=0.5)\n",
    "\n",
    "\n",
    "# save figure\n",
    "year1 = datetime.datetime.strptime(base[0], '%Y-%m-%d').year\n",
    "year2 = datetime.datetime.strptime(base[1], '%Y-%m-%d').year\n",
    "# plt.savefig(plotsave + 'Fig1_IOHC_anomaly_700m_obs_K003_base_'+str(year1)+'_'+str(year2)+\n",
    "#             '_mask_'+masktype+'.png',dpi=300,bbox_inches='tight')"
   ]
  }
 ],
 "metadata": {
  "kernelspec": {
   "display_name": "Python 3",
   "language": "python",
   "name": "python3"
  },
  "language_info": {
   "codemirror_mode": {
    "name": "ipython",
    "version": 3
   },
   "file_extension": ".py",
   "mimetype": "text/x-python",
   "name": "python",
   "nbconvert_exporter": "python",
   "pygments_lexer": "ipython3",
   "version": "3.7.5"
  }
 },
 "nbformat": 4,
 "nbformat_minor": 2
}
